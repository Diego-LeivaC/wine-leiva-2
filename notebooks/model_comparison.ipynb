{
 "cells": [
  {
   "cell_type": "code",
   "execution_count": null,
   "id": "faa8b120",
   "metadata": {},
   "outputs": [],
   "source": [
    "# 2_model_comparison.ipynb\n",
    "\n",
    "import pandas as pd\n",
    "import numpy as np\n",
    "from sklearn.metrics import accuracy_score, precision_score, recall_score, f1_score\n",
    "from src.utils import preprocess_data, split_data, cross_val_evaluate\n",
    "from src.logistic_regression import LogisticRegression\n",
    "from src.svm import SVM\n",
    "\n",
    "# Cargar y preparar datos\n",
    "red = pd.read_csv(\"data/winequality-red.csv\", sep=\";\")\n",
    "white = pd.read_csv(\"data/winequality-white.csv\", sep=\";\")\n",
    "df = pd.concat([red, white], ignore_index=True)\n",
    "X, y = preprocess_data(df)\n",
    "\n",
    "# Separar\n",
    "X_train, X_test, y_train, y_test = split_data(X, y)\n",
    "\n",
    "# Entrenar modelos\n",
    "lr = LogisticRegression()\n",
    "lr.fit(X_train, y_train)\n",
    "y_pred_lr = lr.predict(X_test)\n",
    "\n",
    "svm = SVM(learning_rate=0.001, lambda_param=0.01, n_iters=1000)\n",
    "svm.fit(X_train, y_train)\n",
    "y_pred_svm = svm.predict(X_test)\n",
    "\n",
    "# Comparar métricas\n",
    "for name, pred in zip([\"Logistic Regression\", \"SVM\"], [y_pred_lr, y_pred_svm]):\n",
    "    print(f\"\\n{name}\")\n",
    "    print(\"Accuracy:\", accuracy_score(y_test, pred))\n",
    "    print(\"Precision:\", precision_score(y_test, pred))\n",
    "    print(\"Recall:\", recall_score(y_test, pred))\n",
    "    print(\"F1 Score:\", f1_score(y_test, pred))\n"
   ]
  }
 ],
 "metadata": {
  "language_info": {
   "name": "python"
  }
 },
 "nbformat": 4,
 "nbformat_minor": 5
}
