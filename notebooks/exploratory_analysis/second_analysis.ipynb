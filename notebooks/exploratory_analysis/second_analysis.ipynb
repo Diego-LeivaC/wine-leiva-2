{
 "cells": [
  {
   "cell_type": "code",
   "execution_count": null,
   "id": "085606f3",
   "metadata": {},
   "outputs": [],
   "source": [
    "# 1_exploratory_analysis.ipynb\n",
    "\n",
    "import pandas as pd\n",
    "import matplotlib.pyplot as plt\n",
    "import seaborn as sns\n",
    "from src.functions import exploratory_data_analysis\n",
    "\n",
    "# Cargar los datos\n",
    "red = pd.read_csv(\"data/winequality-red.csv\", sep=\";\")\n",
    "white = pd.read_csv(\"data/winequality-white.csv\", sep=\";\")\n",
    "\n",
    "# Combinar y etiquetar\n",
    "red[\"type\"] = \"red\"\n",
    "white[\"type\"] = \"white\"\n",
    "df = pd.concat([red, white], ignore_index=True)\n",
    "\n",
    "# Mapear calidad binaria\n",
    "df[\"quality_binary\"] = (df[\"quality\"] >= 6).astype(int)\n",
    "\n",
    "# Análisis exploratorio\n",
    "exploratory_data_analysis(df)\n",
    "\n",
    "# Correlación\n",
    "plt.figure(figsize=(12,8))\n",
    "sns.heatmap(df.corr(), annot=True, cmap=\"coolwarm\")\n",
    "plt.title(\"Matriz de Correlación\")\n",
    "plt.show()\n"
   ]
  }
 ],
 "metadata": {
  "language_info": {
   "name": "python"
  }
 },
 "nbformat": 4,
 "nbformat_minor": 5
}
