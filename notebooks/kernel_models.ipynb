{
 "cells": [
  {
   "cell_type": "code",
   "execution_count": null,
   "id": "5ba00d76",
   "metadata": {},
   "outputs": [],
   "source": [
    "# 3_kernel_models.ipynb\n",
    "\n",
    "import pandas as pd\n",
    "import numpy as np\n",
    "from sklearn.model_selection import train_test_split\n",
    "from sklearn.metrics import accuracy_score\n",
    "from src.kernel_logistic import KernelLogisticRegression\n",
    "from src.kernel_svm import KernelSVM\n",
    "from src.utils import preprocess_data\n",
    "\n",
    "# Datos\n",
    "red = pd.read_csv(\"data/winequality-red.csv\", sep=\";\")\n",
    "white = pd.read_csv(\"data/winequality-white.csv\", sep=\";\")\n",
    "df = pd.concat([red, white], ignore_index=True)\n",
    "X, y = preprocess_data(df)\n",
    "\n",
    "# Separar\n",
    "X_train, X_test, y_train, y_test = train_test_split(X, y, test_size=0.3, random_state=42)\n",
    "\n",
    "# Kernel SVM\n",
    "ksvm = KernelSVM(kernel=\"rbf\", gamma=0.1, C=1)\n",
    "ksvm.fit(X_train, y_train)\n",
    "y_pred_ksvm = ksvm.predict(X_test)\n",
    "print(\"Kernel SVM Accuracy:\", accuracy_score(y_test, y_pred_ksvm))\n",
    "\n",
    "# Kernel Logistic Regression\n",
    "klr = KernelLogisticRegression(kernel=\"rbf\", gamma=0.1, alpha=0.01, epochs=100)\n",
    "klr.fit(X_train, y_train)\n",
    "y_pred_klr = klr.predict(X_test)\n",
    "print(\"Kernel Logistic Regression Accuracy:\", accuracy_score(y_test, y_pred_klr))\n"
   ]
  }
 ],
 "metadata": {
  "language_info": {
   "name": "python"
  }
 },
 "nbformat": 4,
 "nbformat_minor": 5
}
